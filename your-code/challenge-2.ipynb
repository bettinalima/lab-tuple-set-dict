{
 "cells":[
  {
   "cell_type":"markdown",
   "source":[
    "## Challenge 2: Sets\n",
    "\n",
    "There are a lot to learn about Python Sets and the information presented in the lesson is limited due to its length. To learn Python Sets in depth you are strongly encouraged to review the W3Schools tutorial on [Python Sets Examples and Methods](https:\/\/www.w3schools.com\/python\/python_sets.asp) before you work on this lab. Some difficult questions in this lab have their solutions in the W3Schools tutorial.\n",
    "\n",
    "#### First, import the Python `random` libary"
   ],
   "attachments":{
    
   },
   "metadata":{
    "datalore":{
     "node_id":"WPYPiUpOvy8JgPXXGV0Hea",
     "type":"MD",
     "hide_input_from_viewers":false,
     "hide_output_from_viewers":false,
     "report_properties":{
      
     }
    }
   }
  },
  {
   "cell_type":"code",
   "source":[
    "import random"
   ],
   "execution_count":17,
   "outputs":[
    
   ],
   "metadata":{
    "datalore":{
     "node_id":"P9f65A5de2cLWrpgiQxUgB",
     "type":"CODE",
     "hide_input_from_viewers":false,
     "hide_output_from_viewers":false,
     "report_properties":{
      
     }
    }
   }
  },
  {
   "cell_type":"markdown",
   "source":[
    "#### 1 - In the cell below, create a list named `sample_list_1` with 80 random values. \n",
    "\n",
    "Requirements:\n",
    "\n",
    "* Each value is an integer falling between 0 and 100.\n",
    "* Each value in the list is unique.\n",
    "\n",
    "Print `sample_list_1` to review its values\n",
    "\n",
    "*Hint: use `random.sample` ([reference](https:\/\/docs.python.org\/3\/library\/random.html#random.sample)).*"
   ],
   "attachments":{
    
   },
   "metadata":{
    "datalore":{
     "node_id":"gUH8PpeusUwQ1E5bIwpOup",
     "type":"MD",
     "hide_input_from_viewers":false,
     "hide_output_from_viewers":false,
     "report_properties":{
      
     }
    }
   }
  },
  {
   "cell_type":"code",
   "source":[
    "# Your code here\n",
    "sample_list_1 = [i for i in random.sample(range(101),80)]\n",
    "sample_list_1"
   ],
   "execution_count":21,
   "outputs":[
    {
     "data":{
      "text\/plain":[
       "[18,\n",
       " 98,\n",
       " 100,\n",
       " 19,\n",
       " 81,\n",
       " 99,\n",
       " 82,\n",
       " 57,\n",
       " 52,\n",
       " 58,\n",
       " 97,\n",
       " 91,\n",
       " 96,\n",
       " 12,\n",
       " 78,\n",
       " 4,\n",
       " 6,\n",
       " 27,\n",
       " 33,\n",
       " 74,\n",
       " 69,\n",
       " 13,\n",
       " 16,\n",
       " 70,\n",
       " 77,\n",
       " 25,\n",
       " 47,\n",
       " 86,\n",
       " 21,\n",
       " 0,\n",
       " 76,\n",
       " 1,\n",
       " 35,\n",
       " 95,\n",
       " 93,\n",
       " 56,\n",
       " 7,\n",
       " 46,\n",
       " 85,\n",
       " 30,\n",
       " 84,\n",
       " 72,\n",
       " 50,\n",
       " 60,\n",
       " 89,\n",
       " 36,\n",
       " 26,\n",
       " 41,\n",
       " 67,\n",
       " 43,\n",
       " 83,\n",
       " 9,\n",
       " 79,\n",
       " 5,\n",
       " 65,\n",
       " 20,\n",
       " 71,\n",
       " 94,\n",
       " 39,\n",
       " 88,\n",
       " 68,\n",
       " 55,\n",
       " 2,\n",
       " 11,\n",
       " 49,\n",
       " 42,\n",
       " 73,\n",
       " 23,\n",
       " 59,\n",
       " 40,\n",
       " 75,\n",
       " 44,\n",
       " 31,\n",
       " 54,\n",
       " 90,\n",
       " 80,\n",
       " 62,\n",
       " 63,\n",
       " 92,\n",
       " 17]"
      ]
     },
     "metadata":{
      
     },
     "output_type":"display_data"
    }
   ],
   "metadata":{
    "datalore":{
     "node_id":"nSwupXdC3UpvCjEpgYuSaU",
     "type":"CODE",
     "hide_input_from_viewers":false,
     "hide_output_from_viewers":false,
     "report_properties":{
      
     }
    }
   }
  },
  {
   "cell_type":"markdown",
   "source":[
    "#### 2 - Convert `sample_list_1` to a set called `set1`. Print the length of the set. Is its length still 80?"
   ],
   "attachments":{
    
   },
   "metadata":{
    "datalore":{
     "node_id":"5nVBNw22yyJY7V3lCLr48I",
     "type":"MD",
     "hide_input_from_viewers":false,
     "hide_output_from_viewers":false,
     "report_properties":{
      
     }
    }
   }
  },
  {
   "cell_type":"code",
   "source":[
    "# Your code here\n",
    "set1 = set(sample_list_1)\n",
    "len(set1)"
   ],
   "execution_count":22,
   "outputs":[
    {
     "data":{
      "text\/plain":[
       "80"
      ]
     },
     "metadata":{
      
     },
     "output_type":"display_data"
    }
   ],
   "metadata":{
    "datalore":{
     "node_id":"EGfvQ5By7Kk8DydY5ZzhjG",
     "type":"CODE",
     "hide_input_from_viewers":false,
     "hide_output_from_viewers":false,
     "report_properties":{
      
     }
    }
   }
  },
  {
   "cell_type":"markdown",
   "source":[
    "#### 3 - Create another list named `sample_list_2` with 80 random values.\n",
    "\n",
    "Requirements:\n",
    "\n",
    "* Each value is an integer falling between 0 and 100.\n",
    "* The values in the list don't have to be unique.\n",
    "\n",
    "*Hint: Use a FOR loop.*"
   ],
   "attachments":{
    
   },
   "metadata":{
    "datalore":{
     "node_id":"SBeuFOvmy8QAkaGrhcruo0",
     "type":"MD",
     "hide_input_from_viewers":false,
     "hide_output_from_viewers":false,
     "report_properties":{
      
     }
    }
   }
  },
  {
   "cell_type":"code",
   "source":[
    "# Your code here\n",
    "sample_list_2 = []\n",
    "for i in range(80):\n",
    "    sample_list_2.append(random.randint(0,100))\n",
    "sample_list_2"
   ],
   "execution_count":23,
   "outputs":[
    {
     "data":{
      "text\/plain":[
       "[8,\n",
       " 57,\n",
       " 77,\n",
       " 31,\n",
       " 17,\n",
       " 92,\n",
       " 61,\n",
       " 62,\n",
       " 29,\n",
       " 3,\n",
       " 100,\n",
       " 5,\n",
       " 42,\n",
       " 75,\n",
       " 42,\n",
       " 43,\n",
       " 21,\n",
       " 75,\n",
       " 62,\n",
       " 75,\n",
       " 93,\n",
       " 82,\n",
       " 89,\n",
       " 83,\n",
       " 45,\n",
       " 54,\n",
       " 91,\n",
       " 7,\n",
       " 9,\n",
       " 29,\n",
       " 61,\n",
       " 68,\n",
       " 84,\n",
       " 3,\n",
       " 30,\n",
       " 87,\n",
       " 78,\n",
       " 7,\n",
       " 81,\n",
       " 72,\n",
       " 59,\n",
       " 87,\n",
       " 69,\n",
       " 49,\n",
       " 37,\n",
       " 23,\n",
       " 53,\n",
       " 93,\n",
       " 45,\n",
       " 22,\n",
       " 90,\n",
       " 25,\n",
       " 41,\n",
       " 67,\n",
       " 87,\n",
       " 25,\n",
       " 2,\n",
       " 95,\n",
       " 9,\n",
       " 58,\n",
       " 34,\n",
       " 92,\n",
       " 10,\n",
       " 57,\n",
       " 71,\n",
       " 48,\n",
       " 97,\n",
       " 74,\n",
       " 9,\n",
       " 88,\n",
       " 10,\n",
       " 74,\n",
       " 37,\n",
       " 19,\n",
       " 30,\n",
       " 7,\n",
       " 56,\n",
       " 35,\n",
       " 65,\n",
       " 89]"
      ]
     },
     "metadata":{
      
     },
     "output_type":"display_data"
    }
   ],
   "metadata":{
    "datalore":{
     "node_id":"lkw7w8EPVqVSoS0xB1a898",
     "type":"CODE",
     "hide_input_from_viewers":false,
     "hide_output_from_viewers":false,
     "report_properties":{
      
     }
    }
   }
  },
  {
   "cell_type":"markdown",
   "source":[
    "#### 4 - Convert `sample_list_2` to a set called `set2`. Print the length of the set. Is its length still 80?"
   ],
   "attachments":{
    
   },
   "metadata":{
    "datalore":{
     "node_id":"gxzehYb5NE3viv2W0PFN9k",
     "type":"MD",
     "hide_input_from_viewers":false,
     "hide_output_from_viewers":false,
     "report_properties":{
      
     }
    }
   }
  },
  {
   "cell_type":"code",
   "source":[
    "# Your code here\n",
    "set2 = set(sample_list_2)\n",
    "len(set2)"
   ],
   "execution_count":24,
   "outputs":[
    {
     "data":{
      "text\/plain":[
       "57"
      ]
     },
     "metadata":{
      
     },
     "output_type":"display_data"
    }
   ],
   "metadata":{
    "datalore":{
     "node_id":"q36B1UTdanXbVgGWkjFQNi",
     "type":"CODE",
     "hide_input_from_viewers":false,
     "hide_output_from_viewers":false,
     "report_properties":{
      
     }
    }
   }
  },
  {
   "cell_type":"markdown",
   "source":[
    "#### 5 - Identify the elements present in `set1` but not in `set2`. Assign the elements to a new set named `set3`."
   ],
   "attachments":{
    
   },
   "metadata":{
    "datalore":{
     "node_id":"d6rqP9s5qO1KcK8Pc8vqKd",
     "type":"MD",
     "hide_input_from_viewers":false,
     "hide_output_from_viewers":false,
     "report_properties":{
      
     }
    }
   }
  },
  {
   "cell_type":"code",
   "source":[
    "# Your code here\n",
    "set3 = set1.difference(set2)\n",
    "set3"
   ],
   "execution_count":25,
   "outputs":[
    {
     "data":{
      "text\/plain":[
       "{0,\n",
       " 1,\n",
       " 4,\n",
       " 6,\n",
       " 11,\n",
       " 12,\n",
       " 13,\n",
       " 16,\n",
       " 18,\n",
       " 20,\n",
       " 26,\n",
       " 27,\n",
       " 33,\n",
       " 36,\n",
       " 39,\n",
       " 40,\n",
       " 44,\n",
       " 46,\n",
       " 47,\n",
       " 50,\n",
       " 52,\n",
       " 55,\n",
       " 60,\n",
       " 63,\n",
       " 70,\n",
       " 73,\n",
       " 76,\n",
       " 79,\n",
       " 80,\n",
       " 85,\n",
       " 86,\n",
       " 94,\n",
       " 96,\n",
       " 98,\n",
       " 99}"
      ]
     },
     "metadata":{
      
     },
     "output_type":"display_data"
    }
   ],
   "metadata":{
    "datalore":{
     "node_id":"xbKrz8hrWgwHV8GN6CWoTa",
     "type":"CODE",
     "hide_input_from_viewers":false,
     "hide_output_from_viewers":false,
     "report_properties":{
      
     }
    }
   }
  },
  {
   "cell_type":"markdown",
   "source":[
    "#### 6 - Identify the elements present in `set2` but not in `set1`. Assign the elements to a new set named `set4`."
   ],
   "attachments":{
    
   },
   "metadata":{
    "datalore":{
     "node_id":"8xFlQQHS0m4FeCG0PmDHJ9",
     "type":"MD",
     "hide_input_from_viewers":false,
     "hide_output_from_viewers":false,
     "report_properties":{
      
     }
    }
   }
  },
  {
   "cell_type":"code",
   "source":[
    "# Your code here\n",
    "set4 = set2.difference(set1)\n",
    "set4"
   ],
   "execution_count":26,
   "outputs":[
    {
     "data":{
      "text\/plain":[
       "{3, 8, 10, 22, 29, 34, 37, 45, 48, 53, 61, 87}"
      ]
     },
     "metadata":{
      
     },
     "output_type":"display_data"
    }
   ],
   "metadata":{
    "datalore":{
     "node_id":"Q7dNNwMQj1oPhpat8R3ncm",
     "type":"CODE",
     "hide_input_from_viewers":false,
     "hide_output_from_viewers":false,
     "report_properties":{
      
     }
    }
   }
  },
  {
   "cell_type":"markdown",
   "source":[
    "#### 7 - Now Identify the elements shared between `set1` and `set2`. Assign the elements to a new set named `set5`."
   ],
   "attachments":{
    
   },
   "metadata":{
    "datalore":{
     "node_id":"8TH80t6vA6UVPXiGHmtssh",
     "type":"MD",
     "hide_input_from_viewers":false,
     "hide_output_from_viewers":false,
     "report_properties":{
      
     }
    }
   }
  },
  {
   "cell_type":"code",
   "source":[
    "# Your code here\n",
    "set5 = set1.intersection(set2)\n",
    "set5"
   ],
   "execution_count":8,
   "outputs":[
    {
     "data":{
      "text\/plain":[
       "{0,\n",
       " 1,\n",
       " 8,\n",
       " 11,\n",
       " 15,\n",
       " 16,\n",
       " 19,\n",
       " 20,\n",
       " 21,\n",
       " 23,\n",
       " 25,\n",
       " 30,\n",
       " 31,\n",
       " 32,\n",
       " 35,\n",
       " 36,\n",
       " 41,\n",
       " 42,\n",
       " 47,\n",
       " 49,\n",
       " 53,\n",
       " 54,\n",
       " 58,\n",
       " 60,\n",
       " 62,\n",
       " 65,\n",
       " 66,\n",
       " 72,\n",
       " 73,\n",
       " 76,\n",
       " 78,\n",
       " 80,\n",
       " 82,\n",
       " 83,\n",
       " 85,\n",
       " 89,\n",
       " 90,\n",
       " 91,\n",
       " 93,\n",
       " 99,\n",
       " 100}"
      ]
     },
     "metadata":{
      
     },
     "output_type":"display_data"
    }
   ],
   "metadata":{
    "datalore":{
     "node_id":"WvEAa9CjUkf31tbHPjk5Mk",
     "type":"CODE",
     "hide_input_from_viewers":false,
     "hide_output_from_viewers":false,
     "report_properties":{
      
     }
    }
   }
  },
  {
   "cell_type":"markdown",
   "source":[
    "#### 8 - Create an empty set called `set6`."
   ],
   "attachments":{
    
   },
   "metadata":{
    "datalore":{
     "node_id":"PAXMLSwYx38cCnwaNcZUfI",
     "type":"MD",
     "hide_input_from_viewers":false,
     "hide_output_from_viewers":false,
     "report_properties":{
      
     }
    }
   }
  },
  {
   "cell_type":"code",
   "source":[
    "# Your code here\n",
    "set6 = set()\n",
    "type(set6)"
   ],
   "execution_count":9,
   "outputs":[
    {
     "data":{
      "text\/plain":[
       "set"
      ]
     },
     "metadata":{
      
     },
     "output_type":"display_data"
    }
   ],
   "metadata":{
    "datalore":{
     "node_id":"vBrI3wGcgXVTUZW9eP1ev5",
     "type":"CODE",
     "hide_input_from_viewers":false,
     "hide_output_from_viewers":false,
     "report_properties":{
      
     }
    }
   }
  },
  {
   "cell_type":"markdown",
   "source":[
    "#### 9 - Add `set3` and `set5` to `set6` using the Python Set `update` method."
   ],
   "attachments":{
    
   },
   "metadata":{
    "datalore":{
     "node_id":"VrwCuJzb8m1A5U7VIjc4FP",
     "type":"MD",
     "hide_input_from_viewers":false,
     "hide_output_from_viewers":false,
     "report_properties":{
      
     }
    }
   }
  },
  {
   "cell_type":"code",
   "source":[
    "# Your code here\n",
    "set6.update(set3.union(set5,set6))\n",
    "set6"
   ],
   "execution_count":10,
   "outputs":[
    {
     "data":{
      "text\/plain":[
       "{0,\n",
       " 1,\n",
       " 2,\n",
       " 4,\n",
       " 5,\n",
       " 6,\n",
       " 8,\n",
       " 9,\n",
       " 10,\n",
       " 11,\n",
       " 13,\n",
       " 14,\n",
       " 15,\n",
       " 16,\n",
       " 17,\n",
       " 18,\n",
       " 19,\n",
       " 20,\n",
       " 21,\n",
       " 23,\n",
       " 25,\n",
       " 26,\n",
       " 28,\n",
       " 30,\n",
       " 31,\n",
       " 32,\n",
       " 33,\n",
       " 34,\n",
       " 35,\n",
       " 36,\n",
       " 38,\n",
       " 41,\n",
       " 42,\n",
       " 43,\n",
       " 45,\n",
       " 47,\n",
       " 48,\n",
       " 49,\n",
       " 53,\n",
       " 54,\n",
       " 56,\n",
       " 57,\n",
       " 58,\n",
       " 59,\n",
       " 60,\n",
       " 62,\n",
       " 63,\n",
       " 64,\n",
       " 65,\n",
       " 66,\n",
       " 67,\n",
       " 68,\n",
       " 71,\n",
       " 72,\n",
       " 73,\n",
       " 75,\n",
       " 76,\n",
       " 77,\n",
       " 78,\n",
       " 79,\n",
       " 80,\n",
       " 81,\n",
       " 82,\n",
       " 83,\n",
       " 84,\n",
       " 85,\n",
       " 87,\n",
       " 88,\n",
       " 89,\n",
       " 90,\n",
       " 91,\n",
       " 92,\n",
       " 93,\n",
       " 94,\n",
       " 95,\n",
       " 96,\n",
       " 97,\n",
       " 98,\n",
       " 99,\n",
       " 100}"
      ]
     },
     "metadata":{
      
     },
     "output_type":"display_data"
    }
   ],
   "metadata":{
    "datalore":{
     "node_id":"if7CUHlSHXtUmpCjRjYZtj",
     "type":"CODE",
     "hide_input_from_viewers":false,
     "hide_output_from_viewers":false,
     "report_properties":{
      
     }
    }
   }
  },
  {
   "cell_type":"markdown",
   "source":[
    "#### 10 - Check if `set1` and `set6` are equal."
   ],
   "attachments":{
    
   },
   "metadata":{
    "datalore":{
     "node_id":"72FNKWskG5e2NAP2757evm",
     "type":"MD",
     "hide_input_from_viewers":false,
     "hide_output_from_viewers":false,
     "report_properties":{
      
     }
    }
   }
  },
  {
   "cell_type":"code",
   "source":[
    "# Your code here\n",
    "set1==set6"
   ],
   "execution_count":11,
   "outputs":[
    {
     "data":{
      "text\/plain":[
       "True"
      ]
     },
     "metadata":{
      
     },
     "output_type":"display_data"
    }
   ],
   "metadata":{
    "datalore":{
     "node_id":"2poJoynC04wq3qQC84Dcvc",
     "type":"CODE",
     "hide_input_from_viewers":false,
     "hide_output_from_viewers":false,
     "report_properties":{
      
     }
    }
   }
  },
  {
   "cell_type":"markdown",
   "source":[
    "#### 11 - Check if `set1` contains `set2` using the Python Set `issubset` method. Then check if `set1` contains `set3`.*"
   ],
   "attachments":{
    
   },
   "metadata":{
    "datalore":{
     "node_id":"0PMvn6rr2I4REIeiynCjen",
     "type":"MD",
     "hide_input_from_viewers":false,
     "hide_output_from_viewers":false,
     "report_properties":{
      
     }
    }
   }
  },
  {
   "cell_type":"code",
   "source":[
    "# Your code here\n",
    "set2.issubset(set1)"
   ],
   "execution_count":12,
   "outputs":[
    {
     "data":{
      "text\/plain":[
       "False"
      ]
     },
     "metadata":{
      
     },
     "output_type":"display_data"
    }
   ],
   "metadata":{
    "datalore":{
     "node_id":"Uc6HFNlzEebwIDax3wI7Lf",
     "type":"CODE",
     "hide_input_from_viewers":false,
     "hide_output_from_viewers":false,
     "report_properties":{
      
     }
    }
   }
  },
  {
   "cell_type":"code",
   "source":[
    "set3.issubset(set1)"
   ],
   "execution_count":13,
   "outputs":[
    {
     "data":{
      "text\/plain":[
       "True"
      ]
     },
     "metadata":{
      
     },
     "output_type":"display_data"
    }
   ],
   "metadata":{
    "datalore":{
     "node_id":"28eYXaAyAHVPj8ZGbU1JHQ",
     "type":"CODE",
     "hide_input_from_viewers":false,
     "hide_output_from_viewers":false,
     "report_properties":{
      
     }
    }
   }
  },
  {
   "cell_type":"markdown",
   "source":[
    "#### 12 -Using the Python Set `union` method, aggregate `set3`, `set4`, and `set5`. Then aggregate `set1` and `set2`. \n",
    "\n",
    "#### Check if the aggregated values are equal."
   ],
   "attachments":{
    
   },
   "metadata":{
    "datalore":{
     "node_id":"8kiLTpTLaSvUg5kUwL7rmy",
     "type":"MD",
     "hide_input_from_viewers":false,
     "hide_output_from_viewers":false,
     "report_properties":{
      
     }
    }
   }
  },
  {
   "cell_type":"code",
   "source":[
    "# Your code here\n",
    "set7 = set3.union(set4,set5)\n",
    "set8 = set1.union(set2)\n",
    "\n",
    "set7==set8"
   ],
   "execution_count":14,
   "outputs":[
    {
     "data":{
      "text\/plain":[
       "True"
      ]
     },
     "metadata":{
      
     },
     "output_type":"display_data"
    }
   ],
   "metadata":{
    "datalore":{
     "node_id":"9PI6VsYlGfsM4yU7HXarX0",
     "type":"CODE",
     "hide_input_from_viewers":false,
     "hide_output_from_viewers":false,
     "report_properties":{
      
     }
    }
   }
  },
  {
   "cell_type":"markdown",
   "source":[
    "#### 13 -Using the `pop` method, remove the first element from `set1`."
   ],
   "attachments":{
    
   },
   "metadata":{
    "datalore":{
     "node_id":"PFwBwsAYq3HU2oou9AaVQ9",
     "type":"MD",
     "hide_input_from_viewers":false,
     "hide_output_from_viewers":false,
     "report_properties":{
      
     }
    }
   }
  },
  {
   "cell_type":"code",
   "source":[
    "# Your code here\n",
    "list_set1 = list(set1)\n",
    "word = list_set1[0]\n",
    "list_set1.pop(0)\n",
    "\n",
    "set1 = set(list_set1)\n",
    "set1"
   ],
   "execution_count":15,
   "outputs":[
    {
     "data":{
      "text\/plain":[
       "{1,\n",
       " 2,\n",
       " 4,\n",
       " 5,\n",
       " 6,\n",
       " 8,\n",
       " 9,\n",
       " 10,\n",
       " 11,\n",
       " 13,\n",
       " 14,\n",
       " 15,\n",
       " 16,\n",
       " 17,\n",
       " 18,\n",
       " 19,\n",
       " 20,\n",
       " 21,\n",
       " 23,\n",
       " 25,\n",
       " 26,\n",
       " 28,\n",
       " 30,\n",
       " 31,\n",
       " 32,\n",
       " 33,\n",
       " 34,\n",
       " 35,\n",
       " 36,\n",
       " 38,\n",
       " 41,\n",
       " 42,\n",
       " 43,\n",
       " 45,\n",
       " 47,\n",
       " 48,\n",
       " 49,\n",
       " 53,\n",
       " 54,\n",
       " 56,\n",
       " 57,\n",
       " 58,\n",
       " 59,\n",
       " 60,\n",
       " 62,\n",
       " 63,\n",
       " 64,\n",
       " 65,\n",
       " 66,\n",
       " 67,\n",
       " 68,\n",
       " 71,\n",
       " 72,\n",
       " 73,\n",
       " 75,\n",
       " 76,\n",
       " 77,\n",
       " 78,\n",
       " 79,\n",
       " 80,\n",
       " 81,\n",
       " 82,\n",
       " 83,\n",
       " 84,\n",
       " 85,\n",
       " 87,\n",
       " 88,\n",
       " 89,\n",
       " 90,\n",
       " 91,\n",
       " 92,\n",
       " 93,\n",
       " 94,\n",
       " 95,\n",
       " 96,\n",
       " 97,\n",
       " 98,\n",
       " 99,\n",
       " 100}"
      ]
     },
     "metadata":{
      
     },
     "output_type":"display_data"
    }
   ],
   "metadata":{
    "datalore":{
     "node_id":"REVLs0NsgfPoJTYblJtLbu",
     "type":"CODE",
     "hide_input_from_viewers":false,
     "hide_output_from_viewers":false,
     "report_properties":{
      
     }
    }
   }
  },
  {
   "cell_type":"markdown",
   "source":[
    "#### 14 -Remove every element in the following list from `set1` if they are present in the set. Print the remaining elements.\n",
    "\n",
    "```\n",
    "list_to_remove = [1, 9, 11, 19, 21, 29, 31, 39, 41, 49, 51, 59, 61, 69, 71, 79, 81, 89, 91, 99]\n",
    "```"
   ],
   "attachments":{
    
   },
   "metadata":{
    "datalore":{
     "node_id":"zzw8R8QsNTYdb3PE9D9xsQ",
     "type":"MD",
     "hide_input_from_viewers":false,
     "hide_output_from_viewers":false,
     "report_properties":{
      
     }
    }
   }
  },
  {
   "cell_type":"code",
   "source":[
    "# Your code here\n",
    "list_to_remove = [1, 9, 11, 19, 21, 29, 31, 39, 41, 49, 51, 59, 61, 69, 71, 79, 81, 89, 91, 99]\n",
    "set_to_remove = set(list_to_remove)\n",
    "\n",
    "new_set = set1.difference(set_to_remove)\n",
    "new_set"
   ],
   "execution_count":16,
   "outputs":[
    {
     "data":{
      "text\/plain":[
       "{2,\n",
       " 4,\n",
       " 5,\n",
       " 6,\n",
       " 8,\n",
       " 10,\n",
       " 13,\n",
       " 14,\n",
       " 15,\n",
       " 16,\n",
       " 17,\n",
       " 18,\n",
       " 20,\n",
       " 23,\n",
       " 25,\n",
       " 26,\n",
       " 28,\n",
       " 30,\n",
       " 32,\n",
       " 33,\n",
       " 34,\n",
       " 35,\n",
       " 36,\n",
       " 38,\n",
       " 42,\n",
       " 43,\n",
       " 45,\n",
       " 47,\n",
       " 48,\n",
       " 53,\n",
       " 54,\n",
       " 56,\n",
       " 57,\n",
       " 58,\n",
       " 60,\n",
       " 62,\n",
       " 63,\n",
       " 64,\n",
       " 65,\n",
       " 66,\n",
       " 67,\n",
       " 68,\n",
       " 72,\n",
       " 73,\n",
       " 75,\n",
       " 76,\n",
       " 77,\n",
       " 78,\n",
       " 80,\n",
       " 82,\n",
       " 83,\n",
       " 84,\n",
       " 85,\n",
       " 87,\n",
       " 88,\n",
       " 90,\n",
       " 92,\n",
       " 93,\n",
       " 94,\n",
       " 95,\n",
       " 96,\n",
       " 97,\n",
       " 98,\n",
       " 100}"
      ]
     },
     "metadata":{
      
     },
     "output_type":"display_data"
    }
   ],
   "metadata":{
    "datalore":{
     "node_id":"Rf5cCP4sTMmhnUHXmh2OpL",
     "type":"CODE",
     "hide_input_from_viewers":false,
     "hide_output_from_viewers":false,
     "report_properties":{
      
     }
    }
   }
  },
  {
   "cell_type":"markdown",
   "source":[
    "#### 15 -The objective of this lab is to provide you a overview of manipulating sets in Python and how they can be integrated within a real usecase\n",
    "#### For the exercises below it's strongly advised to quickly check this link: https:\/\/docs.python.org\/2\/library\/sets.html#sets.Set\n",
    "#### Imagine you need to create the grocery list for your family! Below you will see a list of items each family member wants. There will be repetitions because this family has the habbit of each time they notice something is missing to write it down. The problem is that they don't really talk to each other and therefore some items in the list are repeated. With the collection of questions below you will see how they solve repetion and create a grocery list with unique elements.\n"
   ],
   "attachments":{
    
   },
   "metadata":{
    "datalore":{
     "node_id":"LWGhmBK2TaoB207E57OVsh",
     "type":"MD",
     "hide_input_from_viewers":false,
     "hide_output_from_viewers":false,
     "report_properties":{
      
     }
    }
   }
  },
  {
   "cell_type":"code",
   "source":[
    "father_list = ['garlic', 'watermelon', 'toilet paper', 'yogurt', 'onions', 'gums', 'flour', 'cucumber', 'watermelon', 'yogurt', 'garlic']\n",
    "\n",
    "mother_list = []\n",
    "\n",
    "Jo_list = ['blueberries', 'sugar', 'watermelon', 'gums', 'tomatoes', 'yogurt', 'juice', 'milk', 'onions', 'garlic', 'cucumber', 'sugar', 'blueberries', 'gums', 'yogurt']\n",
    "\n",
    "Carlos_list = ['tomatoes', 'water', 'onions', 'blueberries', 'garlic', 'flour', 'cherries', 'tomatoes', 'onions', 'water', 'tomatoes', 'toilet paper']\n",
    "\n",
    "Mattia_list = []\n",
    "\n"
   ],
   "execution_count":1,
   "outputs":[
    
   ],
   "metadata":{
    "datalore":{
     "node_id":"yJRlWgJWEAqZpReTZmlHv6",
     "type":"CODE",
     "hide_input_from_viewers":false,
     "hide_output_from_viewers":false,
     "report_properties":{
      
     }
    }
   }
  },
  {
   "cell_type":"markdown",
   "source":[
    "#### 15.1- As you can see there are items repeated in each list. Creat a sequence of iterable elements with dintinct items that each family member wants. You can do it in two different ways. Assign each one (set) to a variable with the name of the family member (ex: father_set)."
   ],
   "attachments":{
    
   },
   "metadata":{
    "datalore":{
     "node_id":"fIR9MZCmVw4T5CEFITyXf9",
     "type":"MD",
     "hide_input_from_viewers":false,
     "hide_output_from_viewers":false,
     "report_properties":{
      
     }
    }
   }
  },
  {
   "cell_type":"code",
   "source":[
    "father_set = set(father_list)\n",
    "print(\"father --> \",father_set)\n",
    "\n",
    "mother_set = set(mother_list)\n",
    "print(\"mother --> \",mother_set)\n",
    "\n",
    "Jo_set = set(Jo_list)\n",
    "print(\"Jo --> \",Jo_set)\n",
    "\n",
    "Carlos_set = set(Carlos_list)\n",
    "print(\"Carlos --> \",Carlos_set)\n",
    "\n",
    "Mattia_set = set(Mattia_list)\n",
    "print(\"Mattia --> \",Mattia_set)"
   ],
   "execution_count":5,
   "outputs":[
    {
     "name":"stdout",
     "text":[
      "father -->  {'watermelon', 'gums', 'onions', 'toilet paper', 'yogurt', 'flour', 'cucumber', 'garlic'}\n",
      "mother -->  set()\n",
      "Jo -->  {'watermelon', 'gums', 'tomatoes', 'onions', 'juice', 'milk', 'blueberries', 'sugar', 'yogurt', 'cucumber', 'garlic'}\n",
      "Carlos -->  {'tomatoes', 'onions', 'water', 'blueberries', 'flour', 'toilet paper', 'cherries', 'garlic'}\n",
      "Mattia -->  set()\n"
     ],
     "output_type":"stream"
    }
   ],
   "metadata":{
    "datalore":{
     "node_id":"nfr9BLpRDnVGnXWEefh3GY",
     "type":"CODE",
     "hide_input_from_viewers":false,
     "hide_output_from_viewers":false,
     "report_properties":{
      
     }
    }
   }
  },
  {
   "cell_type":"markdown",
   "source":[
    "#### 15.2- Q: Mattia wants the same items that his brother Carlos and his sister Jo but doesn't want anything they both want.\n",
    "\n",
    "##### Hint: check out the documentation for `x.symmetric_difference(y)`."
   ],
   "attachments":{
    
   },
   "metadata":{
    "datalore":{
     "node_id":"taGxZ2xZydrhJ4T7FnA847",
     "type":"MD",
     "hide_input_from_viewers":false,
     "hide_output_from_viewers":false,
     "report_properties":{
      
     }
    }
   }
  },
  {
   "cell_type":"code",
   "source":[
    "Mattia_set = Jo_set.symmetric_difference(Carlos_set)\n",
    "print(Mattia_set)"
   ],
   "execution_count":6,
   "outputs":[
    {
     "name":"stdout",
     "text":[
      "{'watermelon', 'gums', 'water', 'juice', 'milk', 'sugar', 'flour', 'toilet paper', 'yogurt', 'cucumber', 'cherries'}\n"
     ],
     "output_type":"stream"
    }
   ],
   "metadata":{
    "datalore":{
     "node_id":"82zSd7g9oGFAnpmzsgFkdl",
     "type":"CODE",
     "hide_input_from_viewers":false,
     "hide_output_from_viewers":false,
     "report_properties":{
      
     }
    }
   }
  },
  {
   "cell_type":"markdown",
   "source":[
    "#### 15.3- The line of code below  will  generate a list of random elements from a collection of items, with replacement. Run it and from it create a sequence of unique elements and assign it to the variable mother."
   ],
   "attachments":{
    
   },
   "metadata":{
    "datalore":{
     "node_id":"r2GNJZbKvIgC6R2evegDDu",
     "type":"MD",
     "hide_input_from_viewers":false,
     "hide_output_from_viewers":false,
     "report_properties":{
      
     }
    }
   }
  },
  {
   "cell_type":"code",
   "source":[
    "import random\n",
    "items = ['milk', 'water', 'chocolate', 'blueberries', 'shampoo', 'flour', 'bread', 'sugar', 'watermelon', 'vinegar', 'tomatoes', 'yogurt', 'juice', 'gums', 'onions', 'garlic', 'cucumber', 'mushrooms', 'toilet paper', 'oranges', 'deodorant', 'cherries']\n",
    "\n",
    "mother_list = random.choices(items,k = 10) # https:\/\/docs.python.org\/3\/library\/random.html\n",
    "\n",
    "print(mother_list)"
   ],
   "execution_count":7,
   "outputs":[
    {
     "name":"stdout",
     "text":[
      "['cucumber', 'cherries', 'yogurt', 'watermelon', 'garlic', 'chocolate', 'cherries', 'shampoo', 'toilet paper', 'mushrooms']\n"
     ],
     "output_type":"stream"
    }
   ],
   "metadata":{
    "datalore":{
     "node_id":"y1vCe7Xxs8FZ1pZFVeAWfE",
     "type":"CODE",
     "hide_input_from_viewers":false,
     "hide_output_from_viewers":false,
     "report_properties":{
      
     }
    }
   }
  },
  {
   "cell_type":"code",
   "source":[
    "mother_set = set(mother_list)\n",
    "mother_set"
   ],
   "execution_count":8,
   "outputs":[
    {
     "data":{
      "text\/plain":[
       "{'cherries',\n",
       " 'chocolate',\n",
       " 'cucumber',\n",
       " 'garlic',\n",
       " 'mushrooms',\n",
       " 'shampoo',\n",
       " 'toilet paper',\n",
       " 'watermelon',\n",
       " 'yogurt'}"
      ]
     },
     "metadata":{
      
     },
     "output_type":"display_data"
    }
   ],
   "metadata":{
    "datalore":{
     "node_id":"mFu2po5fg4ZqtDU85EPyeS",
     "type":"CODE",
     "hide_input_from_viewers":false,
     "hide_output_from_viewers":false,
     "report_properties":{
      
     }
    }
   }
  },
  {
   "cell_type":"markdown",
   "source":[
    "#### 15.4- Before leaving the house to the grocery store the father found a lot of toilet paper, so the mother decided to remove it from the items needed to be bought. Use the `.discard()` method to remove from each set created before the 'toilet paper'. \n",
    "\n",
    "#### Hint: Try to first create a list contaning the variables of each set created before, then loop through them and remove the unecessary item. \n",
    "\n",
    "##### Note: The`.discard()` method will remove and update the set without the need of reassignment.\n"
   ],
   "attachments":{
    
   },
   "metadata":{
    "datalore":{
     "node_id":"YGp0FkNYTlmxlMr7V84Jwt",
     "type":"MD",
     "hide_input_from_viewers":false,
     "hide_output_from_viewers":false,
     "report_properties":{
      
     }
    }
   }
  },
  {
   "cell_type":"code",
   "source":[
    "mother_set.discard('toilet paper')\n",
    "print(\"new mother list ---> \",mother_set)\n",
    "\n",
    "father_set.discard('toilet paper')\n",
    "print(\"new father list ---> \",father_set)\n",
    "\n",
    "Jo_set.discard('toilet paper')\n",
    "print(\"new Jo list ---> \",Jo_set)\n",
    "\n",
    "Carlos_set.discard('toilet paper')\n",
    "print(\"new Carlos list ---> \",Carlos_set)\n",
    "\n",
    "Mattia_set.discard('toilet paper')\n",
    "print(\"new Mattia list ---> \",Mattia_set)"
   ],
   "execution_count":10,
   "outputs":[
    {
     "name":"stdout",
     "text":[
      "new mother list --->  {'watermelon', 'mushrooms', 'shampoo', 'yogurt', 'chocolate', 'cucumber', 'cherries', 'garlic'}\n",
      "new father list --->  {'watermelon', 'gums', 'onions', 'yogurt', 'flour', 'cucumber', 'garlic'}\n",
      "new Jo list --->  {'watermelon', 'gums', 'tomatoes', 'onions', 'juice', 'milk', 'blueberries', 'sugar', 'yogurt', 'cucumber', 'garlic'}\n",
      "new Carlos list --->  {'tomatoes', 'onions', 'water', 'blueberries', 'flour', 'cherries', 'garlic'}\n",
      "new Mattia list --->  {'watermelon', 'gums', 'water', 'juice', 'milk', 'sugar', 'flour', 'yogurt', 'cucumber', 'cherries'}\n"
     ],
     "output_type":"stream"
    }
   ],
   "metadata":{
    "datalore":{
     "node_id":"AR4nmLjkeiqlYBLXxL3v0J",
     "type":"CODE",
     "hide_input_from_viewers":false,
     "hide_output_from_viewers":false,
     "report_properties":{
      
     }
    }
   }
  },
  {
   "cell_type":"markdown",
   "source":[
    "#### 15.5- Create a set with all the groceries needed to be bought for the house (no repetitions)."
   ],
   "attachments":{
    
   },
   "metadata":{
    "datalore":{
     "node_id":"xDHT9gs5wqTGG1CY9F9Jt6",
     "type":"MD",
     "hide_input_from_viewers":false,
     "hide_output_from_viewers":false,
     "report_properties":{
      
     }
    }
   }
  },
  {
   "cell_type":"code",
   "source":[
    "grocery = mother_set.union(father_set,Mattia_set,Jo_set,Carlos_set)\n",
    "print(\"the groceries needed for the house are ---> \",grocery)"
   ],
   "execution_count":21,
   "outputs":[
    {
     "name":"stdout",
     "text":[
      "the groceries needed for the house are --->  {'gums', 'milk', 'blueberries', 'yogurt', 'flour', 'chocolate', 'cucumber', 'garlic', 'watermelon', 'mushrooms', 'tomatoes', 'onions', 'water', 'juice', 'shampoo', 'sugar', 'cherries'}\n"
     ],
     "output_type":"stream"
    }
   ],
   "metadata":{
    "datalore":{
     "node_id":"1G8foLeH2v0BkLROvIAorW",
     "type":"CODE",
     "hide_input_from_viewers":false,
     "hide_output_from_viewers":false,
     "report_properties":{
      
     }
    }
   }
  },
  {
   "cell_type":"markdown",
   "source":[
    "#### 15.6- The Father said that he could only buy five items this time. So he decided to arbitraly pick wich ones to buy this time.\n",
    "\n",
    "##### Hint: use the `.pop()` method."
   ],
   "attachments":{
    
   },
   "metadata":{
    "datalore":{
     "node_id":"XO6b66x8VwgJ8nVsoEfJQT",
     "type":"MD",
     "hide_input_from_viewers":false,
     "hide_output_from_viewers":false,
     "report_properties":{
      
     }
    }
   }
  },
  {
   "cell_type":"code",
   "source":[
    "while(len(grocery)>5):\n",
    "    grocery.pop()\n",
    "\n",
    "print(grocery)"
   ],
   "execution_count":22,
   "outputs":[
    {
     "name":"stdout",
     "text":[
      "{'water', 'juice', 'shampoo', 'sugar', 'cherries'}\n"
     ],
     "output_type":"stream"
    }
   ],
   "metadata":{
    "datalore":{
     "node_id":"yd4RwLnATsyw7XEfBhaU1l",
     "type":"CODE",
     "hide_input_from_viewers":false,
     "hide_output_from_viewers":false,
     "report_properties":{
      
     }
    }
   }
  }
 ],
 "metadata":{
  "kernelspec":{
   "display_name":"Python",
   "language":"python",
   "name":"python"
  },
  "datalore":{
   "version":1,
   "computation_mode":"JUPYTER",
   "package_manager":"pip",
   "base_environment":"default",
   "packages":[
    
   ]
  }
 },
 "nbformat":4,
 "nbformat_minor":4
}