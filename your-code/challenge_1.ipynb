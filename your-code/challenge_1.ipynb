{
 "cells":[
  {
   "cell_type":"markdown",
   "source":[
    "## Challenge 1: Tuples\n",
    "\n",
    "#### Do you know you can create tuples with only one element?\n",
    "\n",
    "**In the cell below, define a variable `tup` with a single element `\"I\"`.**\n",
    "\n",
    "*Hint: you need to add a comma (`,`) after the single element.*"
   ],
   "attachments":{
    
   },
   "metadata":{
    "datalore":{
     "node_id":"ElFFYN8j4ABYon8BdNOy8f",
     "type":"MD",
     "hide_input_from_viewers":false,
     "hide_output_from_viewers":false,
     "report_properties":{
      
     }
    }
   }
  },
  {
   "cell_type":"code",
   "source":[
    "tup = (\"I\",)\n",
    "type(tup)"
   ],
   "execution_count":1,
   "outputs":[
    {
     "data":{
      "text\/plain":[
       "tuple"
      ]
     },
     "metadata":{
      
     },
     "output_type":"display_data"
    }
   ],
   "metadata":{
    "datalore":{
     "node_id":"4ftw9UkA6L1C3erbl2FZXg",
     "type":"CODE",
     "hide_input_from_viewers":false,
     "hide_output_from_viewers":false,
     "report_properties":{
      
     }
    }
   }
  },
  {
   "cell_type":"markdown",
   "source":[
    "#### Print the type of `tup`. \n",
    "\n",
    "Make sure its type is correct (i.e. *tuple* instead of *str*)."
   ],
   "attachments":{
    
   },
   "metadata":{
    "datalore":{
     "node_id":"Yv0YPPPEgNMp9IGPB2pZFC",
     "type":"MD",
     "hide_input_from_viewers":false,
     "hide_output_from_viewers":false,
     "report_properties":{
      
     }
    }
   }
  },
  {
   "cell_type":"code",
   "source":[
    "type(tup)"
   ],
   "execution_count":2,
   "outputs":[
    {
     "data":{
      "text\/plain":[
       "tuple"
      ]
     },
     "metadata":{
      
     },
     "output_type":"display_data"
    }
   ],
   "metadata":{
    "datalore":{
     "node_id":"uyUrxt9cJyKBrgks0Ztx6S",
     "type":"CODE",
     "hide_input_from_viewers":false,
     "hide_output_from_viewers":false,
     "report_properties":{
      
     }
    }
   }
  },
  {
   "cell_type":"markdown",
   "source":[
    "#### Now try to append the following elements to `tup`. \n",
    "\n",
    "Are you able to do it? Explain.\n",
    "\n",
    "```\n",
    "\"r\", \"o\", \"n\", \"h\", \"a\", \"c\", \"k',\n",
    "```"
   ],
   "attachments":{
    
   },
   "metadata":{
    "datalore":{
     "node_id":"EPLMJhhgTgoCAJhjoyQhl7",
     "type":"MD",
     "hide_input_from_viewers":false,
     "hide_output_from_viewers":false,
     "report_properties":{
      
     }
    }
   }
  },
  {
   "cell_type":"code",
   "source":[
    "tup = (\"I\",)\n",
    "\n",
    "#first u gotta turn it into a list\n",
    "\n",
    "tup = list(tup)\n",
    "#type(tup)\n",
    "\n",
    "elements = [\"r\", \"o\", \"n\", \"h\", \"a\", \"c\", \"k\"]\n",
    "\n",
    "for i in elements:\n",
    "  tup.append(i)\n",
    "\n",
    "#then u turn it back into a tuple\n",
    "\n",
    "tup = tuple(tup)\n",
    "\n",
    "tup"
   ],
   "execution_count":3,
   "outputs":[
    {
     "data":{
      "text\/plain":[
       "('I', 'r', 'o', 'n', 'h', 'a', 'c', 'k')"
      ]
     },
     "metadata":{
      
     },
     "output_type":"display_data"
    }
   ],
   "metadata":{
    "datalore":{
     "node_id":"nJ2osNjsL0jYQzvmZWqd8c",
     "type":"CODE",
     "hide_input_from_viewers":false,
     "hide_output_from_viewers":false,
     "report_properties":{
      
     }
    }
   }
  },
  {
   "cell_type":"markdown",
   "source":[
    "#### How about re-assign a new value to an existing tuple?\n",
    "\n",
    "Re-assign the following elements to `tup`. Are you able to do it? Explain.\n",
    "\n",
    "```\n",
    "\"I\", \"r\", \"o\", \"n\", \"h\", \"a\", \"c\", \"k\"\n",
    "```"
   ],
   "attachments":{
    
   },
   "metadata":{
    "datalore":{
     "node_id":"GZq2it0qskjHznFiggHXwN",
     "type":"MD",
     "hide_input_from_viewers":false,
     "hide_output_from_viewers":false,
     "report_properties":{
      
     }
    }
   }
  },
  {
   "cell_type":"code",
   "source":[
    "#first u gotta turn the tuple into a list again\n",
    "\n",
    "tup = list(tup)\n",
    "\n",
    "#then u gotta make a list with the elements u wanna replace\n",
    "\n",
    "new_elements = [\"I\", \"r\", \"o\", \"n\", \"h\", \"a\", \"c\", \"k\"]\n",
    "tup_len = len(tup)\n",
    "#only works cause they have the same len\n",
    "for i in range(tup_len):\n",
    "    tup[i] = new_elements[i]\n",
    "\n",
    "#then u turn it into a tuple again\n",
    "\n",
    "tup = tuple(tup)\n",
    "print(tup)"
   ],
   "execution_count":4,
   "outputs":[
    {
     "name":"stdout",
     "text":[
      "('I', 'r', 'o', 'n', 'h', 'a', 'c', 'k')\n"
     ],
     "output_type":"stream"
    }
   ],
   "metadata":{
    "datalore":{
     "node_id":"vuGw8LDyFwSbvhNI04bgbj",
     "type":"CODE",
     "hide_input_from_viewers":false,
     "hide_output_from_viewers":false,
     "report_properties":{
      
     }
    }
   }
  },
  {
   "cell_type":"code",
   "source":[
    "#or u can do it like this \n",
    "\n",
    "tup = list(tup)\n",
    "\n",
    "for i in range(len(tup)):\n",
    "  tup.pop(0)\n",
    "\n",
    "for i in new_elements:\n",
    "  tup.append(i)\n",
    "\n",
    "tup = tuple(tup)\n",
    "print(tup)"
   ],
   "execution_count":5,
   "outputs":[
    {
     "name":"stdout",
     "text":[
      "('I', 'r', 'o', 'n', 'h', 'a', 'c', 'k')\n"
     ],
     "output_type":"stream"
    }
   ],
   "metadata":{
    "datalore":{
     "node_id":"376bMeodTLZxPofLqRRdJV",
     "type":"CODE",
     "hide_input_from_viewers":false,
     "hide_output_from_viewers":false,
     "report_properties":{
      
     }
    }
   }
  },
  {
   "cell_type":"markdown",
   "source":[
    "#### Split `tup` into `tup1` and `tup2` with 4 elements in each. \n",
    "\n",
    "`tup1` should be `(\"I\", \"r\", \"o\", \"n\")` and `tup2` should be `(\"h\", \"a\", \"c\", \"k\")`.\n",
    "\n",
    "*Hint: use positive index numbers for `tup1` assignment and use negative index numbers for `tup2` assignment. Positive index numbers count from the beginning whereas negative index numbers count from the end of the sequence.*\n",
    "\n",
    "Also print `tup1` and `tup2`."
   ],
   "attachments":{
    
   },
   "metadata":{
    "datalore":{
     "node_id":"KaJXm9MEwz2yjJOdzAxVx2",
     "type":"MD",
     "hide_input_from_viewers":false,
     "hide_output_from_viewers":false,
     "report_properties":{
      
     }
    }
   }
  },
  {
   "cell_type":"code",
   "source":[
    "tup1 = [i for m in range(4) for i in tup[m]]\n",
    "tup1 = tuple(tup1)\n",
    "tup1"
   ],
   "execution_count":6,
   "outputs":[
    {
     "data":{
      "text\/plain":[
       "('I', 'r', 'o', 'n')"
      ]
     },
     "metadata":{
      
     },
     "output_type":"display_data"
    }
   ],
   "metadata":{
    "datalore":{
     "node_id":"EqXUgYS0jc2J3QTheOvlXC",
     "type":"CODE",
     "hide_input_from_viewers":false,
     "hide_output_from_viewers":false,
     "report_properties":{
      
     }
    }
   }
  },
  {
   "cell_type":"code",
   "source":[
    "tup2 = [i for i in tup[4:len(tup)]]\n",
    "tup2= tuple(tup2)\n",
    "tup2"
   ],
   "execution_count":7,
   "outputs":[
    {
     "data":{
      "text\/plain":[
       "('h', 'a', 'c', 'k')"
      ]
     },
     "metadata":{
      
     },
     "output_type":"display_data"
    }
   ],
   "metadata":{
    "datalore":{
     "node_id":"TN0UcwxsbnQ1TYdgmo6zFM",
     "type":"CODE",
     "hide_input_from_viewers":false,
     "hide_output_from_viewers":false,
     "report_properties":{
      
     }
    }
   }
  },
  {
   "cell_type":"markdown",
   "source":[
    "#### Add `tup1` and `tup2` into `tup3` using the `+` operator.\n",
    "\n",
    "Then print `tup3` and check if `tup3` equals to `tup`."
   ],
   "attachments":{
    
   },
   "metadata":{
    "datalore":{
     "node_id":"eaDP6b3iU952Sw6UkGS8M6",
     "type":"MD",
     "hide_input_from_viewers":false,
     "hide_output_from_viewers":false,
     "report_properties":{
      
     }
    }
   }
  },
  {
   "cell_type":"code",
   "source":[
    "tup3 = list(tup1)+list(tup2)\n",
    "tup3 = tuple(tup3)\n",
    "tup3"
   ],
   "execution_count":8,
   "outputs":[
    {
     "data":{
      "text\/plain":[
       "('I', 'r', 'o', 'n', 'h', 'a', 'c', 'k')"
      ]
     },
     "metadata":{
      
     },
     "output_type":"display_data"
    }
   ],
   "metadata":{
    "datalore":{
     "node_id":"csAUTK9nWpmT48U6RGtpzd",
     "type":"CODE",
     "hide_input_from_viewers":false,
     "hide_output_from_viewers":false,
     "report_properties":{
      
     }
    }
   }
  },
  {
   "cell_type":"markdown",
   "source":[
    "#### Count the number of elements in `tup1` and `tup2`. Then add the two counts together and check if the sum is the same as the number of elements in `tup3`"
   ],
   "attachments":{
    
   },
   "metadata":{
    "datalore":{
     "node_id":"Rm5cJA4ObNQQlofwnd7UsR",
     "type":"MD",
     "hide_input_from_viewers":false,
     "hide_output_from_viewers":false,
     "report_properties":{
      
     }
    }
   }
  },
  {
   "cell_type":"code",
   "source":[
    "count1 = len(tup1)\n",
    "count1"
   ],
   "execution_count":9,
   "outputs":[
    {
     "data":{
      "text\/plain":[
       "4"
      ]
     },
     "metadata":{
      
     },
     "output_type":"display_data"
    }
   ],
   "metadata":{
    "datalore":{
     "node_id":"d8rhsjbgS4A9Vjx0j1XKXK",
     "type":"CODE",
     "hide_input_from_viewers":false,
     "hide_output_from_viewers":false,
     "report_properties":{
      
     }
    }
   }
  },
  {
   "cell_type":"code",
   "source":[
    "count2 = len(tup2)\n",
    "count2"
   ],
   "execution_count":10,
   "outputs":[
    {
     "data":{
      "text\/plain":[
       "4"
      ]
     },
     "metadata":{
      
     },
     "output_type":"display_data"
    }
   ],
   "metadata":{
    "datalore":{
     "node_id":"DYI09tz8FHs7UWr6AIeIW3",
     "type":"CODE",
     "hide_input_from_viewers":false,
     "hide_output_from_viewers":false,
     "report_properties":{
      
     }
    }
   }
  },
  {
   "cell_type":"code",
   "source":[
    "count3 = len(tup3)\n",
    "count3"
   ],
   "execution_count":11,
   "outputs":[
    {
     "data":{
      "text\/plain":[
       "8"
      ]
     },
     "metadata":{
      
     },
     "output_type":"display_data"
    }
   ],
   "metadata":{
    "datalore":{
     "node_id":"zJdP1IYrYgugg8K8Me7AB3",
     "type":"CODE",
     "hide_input_from_viewers":false,
     "hide_output_from_viewers":false,
     "report_properties":{
      
     }
    }
   }
  },
  {
   "cell_type":"code",
   "source":[
    "count1+count2 == count3"
   ],
   "execution_count":12,
   "outputs":[
    {
     "data":{
      "text\/plain":[
       "True"
      ]
     },
     "metadata":{
      
     },
     "output_type":"display_data"
    }
   ],
   "metadata":{
    "datalore":{
     "node_id":"iZBdaar4xkWtzTEEMjs15L",
     "type":"CODE",
     "hide_input_from_viewers":false,
     "hide_output_from_viewers":false,
     "report_properties":{
      
     }
    }
   }
  },
  {
   "cell_type":"markdown",
   "source":[
    "#### What is the index number of `\"h\"` in `tup3`?"
   ],
   "attachments":{
    
   },
   "metadata":{
    "datalore":{
     "node_id":"ge6T7qQbSAbVxp56DJgavs",
     "type":"MD",
     "hide_input_from_viewers":false,
     "hide_output_from_viewers":false,
     "report_properties":{
      
     }
    }
   }
  },
  {
   "cell_type":"code",
   "source":[
    "tup3"
   ],
   "execution_count":13,
   "outputs":[
    {
     "data":{
      "text\/plain":[
       "('I', 'r', 'o', 'n', 'h', 'a', 'c', 'k')"
      ]
     },
     "metadata":{
      
     },
     "output_type":"display_data"
    }
   ],
   "metadata":{
    "datalore":{
     "node_id":"wze3dnaliArsnFPffHIBjc",
     "type":"CODE",
     "hide_input_from_viewers":false,
     "hide_output_from_viewers":false,
     "report_properties":{
      
     }
    }
   }
  },
  {
   "cell_type":"code",
   "source":[
    "tup3.index(\"h\")"
   ],
   "execution_count":14,
   "outputs":[
    {
     "data":{
      "text\/plain":[
       "4"
      ]
     },
     "metadata":{
      
     },
     "output_type":"display_data"
    }
   ],
   "metadata":{
    "datalore":{
     "node_id":"oJj8XyA8AyTb42qGRqV5vq",
     "type":"CODE",
     "hide_input_from_viewers":false,
     "hide_output_from_viewers":false,
     "report_properties":{
      
     }
    }
   }
  },
  {
   "cell_type":"markdown",
   "source":[
    "#### Now, use a FOR loop to check whether each letter in the following list is present in `tup3`:\n",
    "\n",
    "```\n",
    "letters = [\"a\", \"b\", \"c\", \"d\", \"e\"]\n",
    "```\n",
    "\n",
    "For each letter you check, print `True` if it is present in `tup3` otherwise print `False`.\n",
    "\n",
    "*Hint: you only need to loop `letters`. You don't need to loop `tup3` because there is a Python operator `in` you can use. See [reference](https:\/\/stackoverflow.com\/questions\/17920147\/how-to-check-if-a-tuple-contains-an-element-in-python).*"
   ],
   "attachments":{
    
   },
   "metadata":{
    "datalore":{
     "node_id":"UznAPapamZPemarHWfVgNJ",
     "type":"MD",
     "hide_input_from_viewers":false,
     "hide_output_from_viewers":false,
     "report_properties":{
      
     }
    }
   }
  },
  {
   "cell_type":"code",
   "source":[
    "tup3"
   ],
   "execution_count":15,
   "outputs":[
    {
     "data":{
      "text\/plain":[
       "('I', 'r', 'o', 'n', 'h', 'a', 'c', 'k')"
      ]
     },
     "metadata":{
      
     },
     "output_type":"display_data"
    }
   ],
   "metadata":{
    "datalore":{
     "node_id":"s61kRe82AY0lLAqxuFLNKV",
     "type":"CODE",
     "hide_input_from_viewers":false,
     "hide_output_from_viewers":false,
     "report_properties":{
      
     }
    }
   }
  },
  {
   "cell_type":"code",
   "source":[
    "letters = [\"a\", \"b\", \"c\", \"d\", \"e\"]\n",
    "\n",
    "for i in letters:\n",
    "  if i in tup3:\n",
    "    print(\"The letter: \"+i+\" is in the tuple\")"
   ],
   "execution_count":16,
   "outputs":[
    {
     "name":"stdout",
     "text":[
      "The letter: a is in the tuple\n",
      "The letter: c is in the tuple\n"
     ],
     "output_type":"stream"
    }
   ],
   "metadata":{
    "datalore":{
     "node_id":"kMkNqgVGQEqKyDM8DOcKYy",
     "type":"CODE",
     "hide_input_from_viewers":false,
     "hide_output_from_viewers":false,
     "report_properties":{
      
     }
    }
   }
  },
  {
   "cell_type":"markdown",
   "source":[
    "#### How many times does each letter in `letters` appear in `tup3`?\n",
    "\n",
    "Print out the number of occurrence of each letter."
   ],
   "attachments":{
    
   },
   "metadata":{
    "datalore":{
     "node_id":"aev9VSfJvyb7nirt014fAc",
     "type":"MD",
     "hide_input_from_viewers":false,
     "hide_output_from_viewers":false,
     "report_properties":{
      
     }
    }
   }
  },
  {
   "cell_type":"code",
   "source":[
    "letters = [\"a\", \"b\", \"c\", \"d\", \"e\"]\n",
    "tup3\n",
    "count=0\n",
    "for i in letters:\n",
    "  for m in tup3:\n",
    "    if i==m:\n",
    "      count=count+1\n",
    "  print(\"The letter: \",i,\" shows up \",count,\" times\")\n",
    "  count = 0"
   ],
   "execution_count":23,
   "outputs":[
    {
     "name":"stdout",
     "text":[
      "The letter:  a  shows up  1  times\n",
      "The letter:  b  shows up  0  times\n",
      "The letter:  c  shows up  1  times\n",
      "The letter:  d  shows up  0  times\n",
      "The letter:  e  shows up  0  times\n"
     ],
     "output_type":"stream"
    }
   ],
   "metadata":{
    "datalore":{
     "node_id":"9c9ApX3Co4LMZljn5iwDOp",
     "type":"CODE",
     "hide_input_from_viewers":false,
     "hide_output_from_viewers":false,
     "report_properties":{
      
     }
    }
   }
  }
 ],
 "metadata":{
  "kernelspec":{
   "display_name":"Python",
   "language":"python",
   "name":"python"
  },
  "datalore":{
   "version":1,
   "computation_mode":"JUPYTER",
   "package_manager":"pip",
   "base_environment":"default",
   "packages":[
    
   ]
  }
 },
 "nbformat":4,
 "nbformat_minor":4
}